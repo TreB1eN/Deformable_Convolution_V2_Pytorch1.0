{
 "cells": [
  {
   "cell_type": "code",
   "execution_count": 18,
   "metadata": {},
   "outputs": [
    {
     "data": {
      "text/plain": [
       "'/root/Notebooks/Deformable Convolution V2/ops_copy/src'"
      ]
     },
     "execution_count": 18,
     "metadata": {},
     "output_type": "execute_result"
    }
   ],
   "source": [
    "pwd"
   ]
  },
  {
   "cell_type": "code",
   "execution_count": 1,
   "metadata": {},
   "outputs": [],
   "source": [
    "import torch\n",
    "import modulated_deform_conv_cuda  \n",
    "import numpy as np"
   ]
  },
  {
   "cell_type": "code",
   "execution_count": 2,
   "metadata": {},
   "outputs": [],
   "source": [
    "img = torch.rand([2,3,6,6]).cuda()"
   ]
  },
  {
   "cell_type": "code",
   "execution_count": 3,
   "metadata": {},
   "outputs": [],
   "source": [
    "offset = torch.ones([2,18,6,6]).cuda()\n",
    "mask = torch.ones([2,9,6,6]).cuda()"
   ]
  },
  {
   "cell_type": "code",
   "execution_count": 4,
   "metadata": {},
   "outputs": [],
   "source": [
    "col = torch.zeros([27,2,6,6]).cuda()"
   ]
  },
  {
   "cell_type": "code",
   "execution_count": 5,
   "metadata": {},
   "outputs": [],
   "source": [
    "#     at::Tensor data_im, \n",
    "#     at::Tensor data_offset,\n",
    "#     at::Tensor data_mask,\n",
    "#     at::Tensor data_col,\n",
    "#     int kernel_h, int kernel_w,\n",
    "#     int pad_h, int pad_w,\n",
    "#     int stride_h, int stride_w,\n",
    "#     int dilation_h, int dilation_w,\n",
    "#     int deformable_group) "
   ]
  },
  {
   "cell_type": "code",
   "execution_count": 19,
   "metadata": {},
   "outputs": [],
   "source": [
    "result = modulated_deform_conv_cuda.forward(img, offset, mask, col, 3, 3, 1, 1, 1, 1, 1, 1, 1)"
   ]
  },
  {
   "cell_type": "code",
   "execution_count": null,
   "metadata": {},
   "outputs": [],
   "source": []
  },
  {
   "cell_type": "code",
   "execution_count": 20,
   "metadata": {},
   "outputs": [],
   "source": [
    "grad_im = torch.zeros_like(img, dtype=torch.float32).to(img.device)\n",
    "grad_offset = torch.zeros_like(offset, dtype=torch.float32).to(offset.device)\n",
    "grad_mask = torch.zeros_like(mask, dtype=torch.float32).to(mask.device)"
   ]
  },
  {
   "cell_type": "code",
   "execution_count": 21,
   "metadata": {},
   "outputs": [],
   "source": [
    "grad_col = torch.rand_like(col)"
   ]
  },
  {
   "cell_type": "code",
   "execution_count": 23,
   "metadata": {},
   "outputs": [
    {
     "data": {
      "text/plain": [
       "1"
      ]
     },
     "execution_count": 23,
     "metadata": {},
     "output_type": "execute_result"
    }
   ],
   "source": [
    "modulated_deform_conv_cuda.backward(img, offset, mask, grad_col, \n",
    "                    3, 3, 1, 1, 1, 1, 1, 1, 1,\n",
    "                    grad_offset, grad_mask, grad_im)"
   ]
  },
  {
   "cell_type": "code",
   "execution_count": 26,
   "metadata": {},
   "outputs": [
    {
     "data": {
      "text/plain": [
       "tensor([[[[-0.2864, -0.3891,  0.6995, -0.6489, -0.3659, -0.4455],\n",
       "          [ 0.2516,  0.0732, -0.1872, -0.3347,  1.0863,  0.1824],\n",
       "          [-0.4033,  0.1884,  0.0574,  0.0648,  0.1273,  0.1334],\n",
       "          [ 0.7876, -0.0714, -0.7290,  0.3984, -0.5367, -0.3966],\n",
       "          [ 0.4834,  0.2245,  0.1999, -0.1251, -0.0297, -0.0499],\n",
       "          [-1.8848, -0.8987, -1.1670, -0.4571, -0.7097, -0.2224]],\n",
       "\n",
       "         [[-0.0826, -0.6237,  0.7208,  0.2480,  0.0096, -1.3715],\n",
       "          [ 0.1439,  0.7586, -0.8772, -0.2177,  0.1763, -0.6094],\n",
       "          [-0.2488,  0.3366, -0.4465,  0.5134, -0.4300, -0.9739],\n",
       "          [ 0.3348,  0.4825, -0.6065,  0.7538, -0.6053, -0.8173],\n",
       "          [-0.2992,  0.1201,  0.4602, -0.0571, -0.5411, -0.4397],\n",
       "          [-0.2264,  0.0449, -0.8892,  1.0429, -0.2043, -0.2224]],\n",
       "\n",
       "         [[-0.1063,  1.0631, -0.1194, -1.3477, -0.3416,  0.0000],\n",
       "          [ 0.2456, -0.4220,  0.2207,  0.6899,  0.0719,  0.0000],\n",
       "          [ 0.2179,  0.2117,  0.0281,  0.1153, -0.0688,  0.0000],\n",
       "          [ 0.1974, -0.4236,  0.3725,  0.0463, -0.3289,  0.0000],\n",
       "          [-0.0621,  0.0663, -1.3818,  0.0082,  0.0849,  0.0000],\n",
       "          [-0.7666, -0.8659, -0.2015, -0.2514, -0.3291,  0.0000]],\n",
       "\n",
       "         ...,\n",
       "\n",
       "         [[ 0.1279, -0.0582,  0.3583, -0.1946, -0.3920,  0.0000],\n",
       "          [ 0.6964, -0.7689,  0.2105, -0.3365, -0.4464,  0.0000],\n",
       "          [-0.0964, -0.0931, -0.1424, -0.1116, -0.5909,  0.0000],\n",
       "          [ 0.0538, -0.3554,  0.9762, -0.1861, -0.4017,  0.0000],\n",
       "          [ 0.0000,  0.0000,  0.0000,  0.0000,  0.0000,  0.0000],\n",
       "          [ 0.0000,  0.0000,  0.0000,  0.0000,  0.0000,  0.0000]],\n",
       "\n",
       "         [[ 0.0990,  0.2913,  0.1944,  0.0418,  0.0000,  0.0000],\n",
       "          [-0.1324,  0.3427, -0.4601, -0.0772,  0.0000,  0.0000],\n",
       "          [ 0.1330, -0.4223,  0.0556, -0.0545,  0.0000,  0.0000],\n",
       "          [-0.7407, -0.3889, -0.8889, -0.2872,  0.0000,  0.0000],\n",
       "          [ 0.0000,  0.0000,  0.0000,  0.0000,  0.0000,  0.0000],\n",
       "          [ 0.0000,  0.0000,  0.0000,  0.0000,  0.0000,  0.0000]],\n",
       "\n",
       "         [[-0.1785,  0.6024, -0.5591, -0.7903,  0.0000,  0.0000],\n",
       "          [-1.0918,  0.3954, -0.2724, -0.6548,  0.0000,  0.0000],\n",
       "          [ 0.0708, -0.1344, -0.1136, -0.6289,  0.0000,  0.0000],\n",
       "          [-0.5685,  0.3921, -0.3189, -0.2872,  0.0000,  0.0000],\n",
       "          [ 0.0000,  0.0000,  0.0000,  0.0000,  0.0000,  0.0000],\n",
       "          [ 0.0000,  0.0000,  0.0000,  0.0000,  0.0000,  0.0000]]],\n",
       "\n",
       "\n",
       "        [[[ 0.1719,  0.1167,  0.3625, -0.1349, -0.2212,  0.1407],\n",
       "          [-0.5023,  0.0058,  0.2624, -0.0374, -0.2927,  0.0816],\n",
       "          [ 0.5505,  0.1061, -0.2458, -0.3305, -0.2463, -0.7117],\n",
       "          [ 0.2629,  0.4673, -0.4053,  0.0872,  0.0064,  0.3371],\n",
       "          [-0.6852, -0.7061,  0.2091,  0.0992,  0.2138, -0.1167],\n",
       "          [-0.1838, -0.4148, -0.6548, -0.5157, -0.4140, -0.5146]],\n",
       "\n",
       "         [[ 0.4666, -0.5150,  0.2325, -0.0347, -0.2781, -0.5256],\n",
       "          [ 0.4052, -0.2588,  0.2969, -0.0371,  0.2555, -0.6826],\n",
       "          [ 0.3179,  0.0597, -0.0606, -0.2279,  0.7555, -1.3173],\n",
       "          [ 0.0150,  0.1364, -0.3481,  0.0440, -0.0752, -0.4793],\n",
       "          [-0.0281, -0.1632, -0.1075,  0.1228,  0.4369, -1.0935],\n",
       "          [ 0.0341,  0.4687, -0.1602, -0.0786,  0.0008, -0.5146]],\n",
       "\n",
       "         [[ 0.7356,  0.0252, -0.0212, -0.2373,  0.1262,  0.0000],\n",
       "          [ 0.0669,  0.4343,  0.3805, -0.0660,  0.2365,  0.0000],\n",
       "          [-0.2006,  0.3249, -0.0903, -0.4270, -0.3664,  0.0000],\n",
       "          [ 0.2168, -0.0769,  0.0260,  0.0892,  0.4254,  0.0000],\n",
       "          [-0.9076,  0.5989, -0.0503, -0.0910, -0.2340,  0.0000],\n",
       "          [-0.2174, -0.9185, -0.9801, -0.9036, -0.5591,  0.0000]],\n",
       "\n",
       "         ...,\n",
       "\n",
       "         [[-0.4612,  0.0792, -0.5136,  0.0098, -1.1360,  0.0000],\n",
       "          [-0.0025,  0.3125, -0.2576,  0.0892, -0.9076,  0.0000],\n",
       "          [-0.2887,  0.1414, -0.2018,  0.0541, -1.2319,  0.0000],\n",
       "          [ 0.9499, -0.5160, -0.1939, -0.0517, -0.3467,  0.0000],\n",
       "          [ 0.0000,  0.0000,  0.0000,  0.0000,  0.0000,  0.0000],\n",
       "          [ 0.0000,  0.0000,  0.0000,  0.0000,  0.0000,  0.0000]],\n",
       "\n",
       "         [[ 0.0446, -0.1940, -0.2010, -0.5030,  0.0000,  0.0000],\n",
       "          [-0.0713, -0.1282,  0.1519,  0.2904,  0.0000,  0.0000],\n",
       "          [ 0.3254, -0.1523,  0.0390, -0.1464,  0.0000,  0.0000],\n",
       "          [-1.0188, -0.5347, -0.3856, -0.8525,  0.0000,  0.0000],\n",
       "          [ 0.0000,  0.0000,  0.0000,  0.0000,  0.0000,  0.0000],\n",
       "          [ 0.0000,  0.0000,  0.0000,  0.0000,  0.0000,  0.0000]],\n",
       "\n",
       "         [[ 0.3353, -0.3298,  0.3134, -1.0219,  0.0000,  0.0000],\n",
       "          [ 0.0199, -0.4627,  0.2695, -1.0562,  0.0000,  0.0000],\n",
       "          [ 0.0005, -0.0996,  0.2271, -0.4161,  0.0000,  0.0000],\n",
       "          [-0.4125,  0.2794,  0.0748, -0.8525,  0.0000,  0.0000],\n",
       "          [ 0.0000,  0.0000,  0.0000,  0.0000,  0.0000,  0.0000],\n",
       "          [ 0.0000,  0.0000,  0.0000,  0.0000,  0.0000,  0.0000]]]],\n",
       "       device='cuda:0')"
      ]
     },
     "execution_count": 26,
     "metadata": {},
     "output_type": "execute_result"
    }
   ],
   "source": [
    "grad_offset"
   ]
  },
  {
   "cell_type": "code",
   "execution_count": 6,
   "metadata": {},
   "outputs": [
    {
     "data": {
      "text/plain": [
       "tensor([[[0.1065, 0.1377, 0.5139, 0.8681, 0.9206, 0.4225],\n",
       "         [0.3049, 0.1312, 0.9345, 0.7960, 0.5530, 0.7871],\n",
       "         [0.7915, 0.5238, 0.3375, 0.2995, 0.5307, 0.5305],\n",
       "         [0.0206, 0.2244, 0.9618, 0.3667, 0.6654, 0.3499],\n",
       "         [0.9681, 0.6225, 0.7942, 0.7679, 0.8798, 0.2859],\n",
       "         [0.9642, 0.6367, 0.8205, 0.0693, 0.8232, 0.3083]],\n",
       "\n",
       "        [[0.2476, 0.3958, 0.0801, 0.9400, 0.9459, 0.6585],\n",
       "         [0.0846, 0.2613, 0.7220, 0.0317, 0.2515, 0.3099],\n",
       "         [0.3472, 0.3917, 0.5485, 0.3704, 0.8156, 0.5313],\n",
       "         [0.4430, 0.3687, 0.7306, 0.8177, 0.8916, 0.3681],\n",
       "         [0.0163, 0.6686, 0.0284, 0.8540, 0.5586, 0.4535],\n",
       "         [0.4107, 0.3781, 0.2240, 0.0379, 0.1877, 0.2276]],\n",
       "\n",
       "        [[0.9961, 0.8576, 0.2632, 0.3266, 0.8300, 0.9164],\n",
       "         [0.5149, 0.4816, 0.8923, 0.4613, 0.3438, 0.4286],\n",
       "         [0.5371, 0.2518, 0.9694, 0.4418, 0.8895, 0.4850],\n",
       "         [0.1345, 0.8454, 0.9252, 0.3346, 0.9699, 0.8028],\n",
       "         [0.3559, 0.2801, 0.9839, 0.5150, 0.2896, 0.2414],\n",
       "         [0.9047, 0.9432, 0.9847, 0.3564, 0.5393, 0.4643]]], device='cuda:0')"
      ]
     },
     "execution_count": 6,
     "metadata": {},
     "output_type": "execute_result"
    }
   ],
   "source": [
    "img[0]"
   ]
  },
  {
   "cell_type": "code",
   "execution_count": 7,
   "metadata": {},
   "outputs": [
    {
     "data": {
      "text/plain": [
       "torch.Size([27, 2, 6, 6])"
      ]
     },
     "execution_count": 7,
     "metadata": {},
     "output_type": "execute_result"
    }
   ],
   "source": [
    "col.shape"
   ]
  },
  {
   "cell_type": "code",
   "execution_count": 8,
   "metadata": {},
   "outputs": [
    {
     "data": {
      "text/plain": [
       "tensor([0.0000, 0.0000, 0.0000, 0.0000, 0.1312, 0.7960, 0.0000, 0.2244, 0.3667,\n",
       "        0.0000, 0.0000, 0.0000, 0.0000, 0.2613, 0.0317, 0.0000, 0.3687, 0.8177,\n",
       "        0.0000, 0.0000, 0.0000, 0.0000, 0.4816, 0.4613, 0.0000, 0.8454, 0.3346],\n",
       "       device='cuda:0')"
      ]
     },
     "execution_count": 8,
     "metadata": {},
     "output_type": "execute_result"
    }
   ],
   "source": [
    "col[:,0,0,0]"
   ]
  },
  {
   "cell_type": "code",
   "execution_count": 50,
   "metadata": {},
   "outputs": [
    {
     "data": {
      "text/plain": [
       "tensor([0.0597, 0.2637, 0.3745, 0.2913, 0.6735, 0.6048, 0.2769, 0.6832, 0.6631,\n",
       "        0.1840, 0.2697, 0.1990, 0.2663, 0.3542, 0.2575, 0.2850, 0.4011, 0.1942,\n",
       "        0.2457, 0.2826, 0.2372, 0.4405, 0.6431, 0.6511, 0.2665, 0.6212, 0.7830],\n",
       "       device='cuda:0')"
      ]
     },
     "execution_count": 50,
     "metadata": {},
     "output_type": "execute_result"
    }
   ],
   "source": [
    "col[:,0,0,0]"
   ]
  },
  {
   "cell_type": "code",
   "execution_count": 9,
   "metadata": {},
   "outputs": [
    {
     "data": {
      "text/plain": [
       "tensor([0.0000, 0.0000, 0.0000, 0.3049, 0.9345, 0.5530, 0.0206, 0.9618, 0.6654,\n",
       "        0.0000, 0.0000, 0.0000, 0.0846, 0.7220, 0.2515, 0.4430, 0.7306, 0.8916,\n",
       "        0.0000, 0.0000, 0.0000, 0.5149, 0.8923, 0.3438, 0.1345, 0.9252, 0.9699],\n",
       "       device='cuda:0')"
      ]
     },
     "execution_count": 9,
     "metadata": {},
     "output_type": "execute_result"
    }
   ],
   "source": [
    "col[:,0,0,1]"
   ]
  },
  {
   "cell_type": "code",
   "execution_count": 10,
   "metadata": {},
   "outputs": [
    {
     "data": {
      "text/plain": [
       "tensor([0.1312, 0.7960, 0.7871, 0.2244, 0.3667, 0.3499, 0.6367, 0.0693, 0.3083,\n",
       "        0.2613, 0.0317, 0.3099, 0.3687, 0.8177, 0.3681, 0.3781, 0.0379, 0.2276,\n",
       "        0.4816, 0.4613, 0.4286, 0.8454, 0.3346, 0.8028, 0.9432, 0.3564, 0.4643],\n",
       "       device='cuda:0')"
      ]
     },
     "execution_count": 10,
     "metadata": {},
     "output_type": "execute_result"
    }
   ],
   "source": [
    "col[:,0,2,2]"
   ]
  },
  {
   "cell_type": "code",
   "execution_count": 11,
   "metadata": {},
   "outputs": [
    {
     "ename": "NameError",
     "evalue": "name 'bilinear_interpolate' is not defined",
     "output_type": "error",
     "traceback": [
      "\u001b[0;31m---------------------------------------------------------------------------\u001b[0m",
      "\u001b[0;31mNameError\u001b[0m                                 Traceback (most recent call last)",
      "\u001b[0;32m<ipython-input-11-a3a55ab3c3f9>\u001b[0m in \u001b[0;36m<module>\u001b[0;34m\u001b[0m\n\u001b[0;32m----> 1\u001b[0;31m \u001b[0mbilinear_interpolate\u001b[0m\u001b[0;34m(\u001b[0m\u001b[0mim\u001b[0m\u001b[0;34m,\u001b[0m \u001b[0;36m0.5\u001b[0m\u001b[0;34m,\u001b[0m\u001b[0;36m0.5\u001b[0m\u001b[0;34m)\u001b[0m\u001b[0;34m\u001b[0m\u001b[0m\n\u001b[0m",
      "\u001b[0;31mNameError\u001b[0m: name 'bilinear_interpolate' is not defined"
     ]
    }
   ],
   "source": [
    "bilinear_interpolate(im, 0.5,0.5)"
   ]
  },
  {
   "cell_type": "code",
   "execution_count": 68,
   "metadata": {},
   "outputs": [],
   "source": [
    "def pad_with(vector, pad_width, iaxis, kwargs):\n",
    "...     pad_value = kwargs.get('padder', 10)\n",
    "...     vector[:pad_width[0]] = pad_value\n",
    "...     vector[-pad_width[1]:] = pad_value\n",
    "...     return vector"
   ]
  },
  {
   "cell_type": "code",
   "execution_count": 63,
   "metadata": {},
   "outputs": [],
   "source": [
    "im = img[0].detach().cpu().numpy()"
   ]
  },
  {
   "cell_type": "code",
   "execution_count": 77,
   "metadata": {},
   "outputs": [
    {
     "data": {
      "text/plain": [
       "(3, 6, 6)"
      ]
     },
     "execution_count": 77,
     "metadata": {},
     "output_type": "execute_result"
    }
   ],
   "source": [
    "im.shape"
   ]
  },
  {
   "cell_type": "code",
   "execution_count": 85,
   "metadata": {
    "collapsed": true
   },
   "outputs": [
    {
     "ename": "ValueError",
     "evalue": "Unable to create correctly shaped tuple from ((0, 0), (1, 1), (1, 1))",
     "output_type": "error",
     "traceback": [
      "\u001b[0;31m---------------------------------------------------------------------------\u001b[0m",
      "\u001b[0;31mValueError\u001b[0m                                Traceback (most recent call last)",
      "\u001b[0;32m/home/f/anaconda3/lib/python3.6/site-packages/numpy/lib/arraypad.py\u001b[0m in \u001b[0;36m_normalize_shape\u001b[0;34m(ndarray, shape, cast_to_int)\u001b[0m\n\u001b[1;32m    934\u001b[0m     \u001b[0;32mtry\u001b[0m\u001b[0;34m:\u001b[0m\u001b[0;34m\u001b[0m\u001b[0m\n\u001b[0;32m--> 935\u001b[0;31m         \u001b[0mshape_arr\u001b[0m \u001b[0;34m=\u001b[0m \u001b[0mnp\u001b[0m\u001b[0;34m.\u001b[0m\u001b[0mbroadcast_to\u001b[0m\u001b[0;34m(\u001b[0m\u001b[0mshape_arr\u001b[0m\u001b[0;34m,\u001b[0m \u001b[0;34m(\u001b[0m\u001b[0mndims\u001b[0m\u001b[0;34m,\u001b[0m \u001b[0;36m2\u001b[0m\u001b[0;34m)\u001b[0m\u001b[0;34m)\u001b[0m\u001b[0;34m\u001b[0m\u001b[0m\n\u001b[0m\u001b[1;32m    936\u001b[0m     \u001b[0;32mexcept\u001b[0m \u001b[0mValueError\u001b[0m\u001b[0;34m:\u001b[0m\u001b[0;34m\u001b[0m\u001b[0m\n",
      "\u001b[0;32m/home/f/anaconda3/lib/python3.6/site-packages/numpy/lib/stride_tricks.py\u001b[0m in \u001b[0;36mbroadcast_to\u001b[0;34m(array, shape, subok)\u001b[0m\n\u001b[1;32m    175\u001b[0m     \"\"\"\n\u001b[0;32m--> 176\u001b[0;31m     \u001b[0;32mreturn\u001b[0m \u001b[0m_broadcast_to\u001b[0m\u001b[0;34m(\u001b[0m\u001b[0marray\u001b[0m\u001b[0;34m,\u001b[0m \u001b[0mshape\u001b[0m\u001b[0;34m,\u001b[0m \u001b[0msubok\u001b[0m\u001b[0;34m=\u001b[0m\u001b[0msubok\u001b[0m\u001b[0;34m,\u001b[0m \u001b[0mreadonly\u001b[0m\u001b[0;34m=\u001b[0m\u001b[0;32mTrue\u001b[0m\u001b[0;34m)\u001b[0m\u001b[0;34m\u001b[0m\u001b[0m\n\u001b[0m\u001b[1;32m    177\u001b[0m \u001b[0;34m\u001b[0m\u001b[0m\n",
      "\u001b[0;32m/home/f/anaconda3/lib/python3.6/site-packages/numpy/lib/stride_tricks.py\u001b[0m in \u001b[0;36m_broadcast_to\u001b[0;34m(array, shape, subok, readonly)\u001b[0m\n\u001b[1;32m    127\u001b[0m         \u001b[0;34m(\u001b[0m\u001b[0marray\u001b[0m\u001b[0;34m,\u001b[0m\u001b[0;34m)\u001b[0m\u001b[0;34m,\u001b[0m \u001b[0mflags\u001b[0m\u001b[0;34m=\u001b[0m\u001b[0;34m[\u001b[0m\u001b[0;34m'multi_index'\u001b[0m\u001b[0;34m,\u001b[0m \u001b[0;34m'refs_ok'\u001b[0m\u001b[0;34m,\u001b[0m \u001b[0;34m'zerosize_ok'\u001b[0m\u001b[0;34m]\u001b[0m \u001b[0;34m+\u001b[0m \u001b[0mextras\u001b[0m\u001b[0;34m,\u001b[0m\u001b[0;34m\u001b[0m\u001b[0m\n\u001b[0;32m--> 128\u001b[0;31m         op_flags=[op_flag], itershape=shape, order='C')\n\u001b[0m\u001b[1;32m    129\u001b[0m     \u001b[0;32mwith\u001b[0m \u001b[0mit\u001b[0m\u001b[0;34m:\u001b[0m\u001b[0;34m\u001b[0m\u001b[0m\n",
      "\u001b[0;31mValueError\u001b[0m: operands could not be broadcast together with remapped shapes [original->remapped]: (3,2) and requested shape (2,2)",
      "\nDuring handling of the above exception, another exception occurred:\n",
      "\u001b[0;31mValueError\u001b[0m                                Traceback (most recent call last)",
      "\u001b[0;32m<ipython-input-85-995f7f1bab0f>\u001b[0m in \u001b[0;36m<module>\u001b[0;34m\u001b[0m\n\u001b[0;32m----> 1\u001b[0;31m \u001b[0mpadded\u001b[0m \u001b[0;34m=\u001b[0m \u001b[0mnp\u001b[0m\u001b[0;34m.\u001b[0m\u001b[0mpad\u001b[0m\u001b[0;34m(\u001b[0m\u001b[0mim\u001b[0m\u001b[0;34m[\u001b[0m\u001b[0;36m0\u001b[0m\u001b[0;34m]\u001b[0m\u001b[0;34m,\u001b[0m \u001b[0;34m(\u001b[0m\u001b[0;34m(\u001b[0m\u001b[0;36m0\u001b[0m\u001b[0;34m,\u001b[0m\u001b[0;36m0\u001b[0m\u001b[0;34m)\u001b[0m\u001b[0;34m,\u001b[0m \u001b[0;34m(\u001b[0m\u001b[0;36m1\u001b[0m\u001b[0;34m,\u001b[0m \u001b[0;36m1\u001b[0m\u001b[0;34m)\u001b[0m\u001b[0;34m,\u001b[0m \u001b[0;34m(\u001b[0m\u001b[0;36m1\u001b[0m\u001b[0;34m,\u001b[0m \u001b[0;36m1\u001b[0m\u001b[0;34m)\u001b[0m\u001b[0;34m)\u001b[0m\u001b[0;34m,\u001b[0m \u001b[0;34m'constant'\u001b[0m\u001b[0;34m)\u001b[0m\u001b[0;34m\u001b[0m\u001b[0m\n\u001b[0m",
      "\u001b[0;32m/home/f/anaconda3/lib/python3.6/site-packages/numpy/lib/arraypad.py\u001b[0m in \u001b[0;36mpad\u001b[0;34m(array, pad_width, mode, **kwargs)\u001b[0m\n\u001b[1;32m   1198\u001b[0m \u001b[0;34m\u001b[0m\u001b[0m\n\u001b[1;32m   1199\u001b[0m     \u001b[0mnarray\u001b[0m \u001b[0;34m=\u001b[0m \u001b[0mnp\u001b[0m\u001b[0;34m.\u001b[0m\u001b[0marray\u001b[0m\u001b[0;34m(\u001b[0m\u001b[0marray\u001b[0m\u001b[0;34m)\u001b[0m\u001b[0;34m\u001b[0m\u001b[0m\n\u001b[0;32m-> 1200\u001b[0;31m     \u001b[0mpad_width\u001b[0m \u001b[0;34m=\u001b[0m \u001b[0m_validate_lengths\u001b[0m\u001b[0;34m(\u001b[0m\u001b[0mnarray\u001b[0m\u001b[0;34m,\u001b[0m \u001b[0mpad_width\u001b[0m\u001b[0;34m)\u001b[0m\u001b[0;34m\u001b[0m\u001b[0m\n\u001b[0m\u001b[1;32m   1201\u001b[0m \u001b[0;34m\u001b[0m\u001b[0m\n\u001b[1;32m   1202\u001b[0m     allowedkwargs = {\n",
      "\u001b[0;32m/home/f/anaconda3/lib/python3.6/site-packages/numpy/lib/arraypad.py\u001b[0m in \u001b[0;36m_validate_lengths\u001b[0;34m(narray, number_elements)\u001b[0m\n\u001b[1;32m    977\u001b[0m \u001b[0;34m\u001b[0m\u001b[0m\n\u001b[1;32m    978\u001b[0m     \"\"\"\n\u001b[0;32m--> 979\u001b[0;31m     \u001b[0mnormshp\u001b[0m \u001b[0;34m=\u001b[0m \u001b[0m_normalize_shape\u001b[0m\u001b[0;34m(\u001b[0m\u001b[0mnarray\u001b[0m\u001b[0;34m,\u001b[0m \u001b[0mnumber_elements\u001b[0m\u001b[0;34m)\u001b[0m\u001b[0;34m\u001b[0m\u001b[0m\n\u001b[0m\u001b[1;32m    980\u001b[0m     \u001b[0;32mfor\u001b[0m \u001b[0mi\u001b[0m \u001b[0;32min\u001b[0m \u001b[0mnormshp\u001b[0m\u001b[0;34m:\u001b[0m\u001b[0;34m\u001b[0m\u001b[0m\n\u001b[1;32m    981\u001b[0m         \u001b[0mchk\u001b[0m \u001b[0;34m=\u001b[0m \u001b[0;34m[\u001b[0m\u001b[0;36m1\u001b[0m \u001b[0;32mif\u001b[0m \u001b[0mx\u001b[0m \u001b[0;32mis\u001b[0m \u001b[0;32mNone\u001b[0m \u001b[0;32melse\u001b[0m \u001b[0mx\u001b[0m \u001b[0;32mfor\u001b[0m \u001b[0mx\u001b[0m \u001b[0;32min\u001b[0m \u001b[0mi\u001b[0m\u001b[0;34m]\u001b[0m\u001b[0;34m\u001b[0m\u001b[0m\n",
      "\u001b[0;32m/home/f/anaconda3/lib/python3.6/site-packages/numpy/lib/arraypad.py\u001b[0m in \u001b[0;36m_normalize_shape\u001b[0;34m(ndarray, shape, cast_to_int)\u001b[0m\n\u001b[1;32m    936\u001b[0m     \u001b[0;32mexcept\u001b[0m \u001b[0mValueError\u001b[0m\u001b[0;34m:\u001b[0m\u001b[0;34m\u001b[0m\u001b[0m\n\u001b[1;32m    937\u001b[0m         \u001b[0mfmt\u001b[0m \u001b[0;34m=\u001b[0m \u001b[0;34m\"Unable to create correctly shaped tuple from %s\"\u001b[0m\u001b[0;34m\u001b[0m\u001b[0m\n\u001b[0;32m--> 938\u001b[0;31m         \u001b[0;32mraise\u001b[0m \u001b[0mValueError\u001b[0m\u001b[0;34m(\u001b[0m\u001b[0mfmt\u001b[0m \u001b[0;34m%\u001b[0m \u001b[0;34m(\u001b[0m\u001b[0mshape\u001b[0m\u001b[0;34m,\u001b[0m\u001b[0;34m)\u001b[0m\u001b[0;34m)\u001b[0m\u001b[0;34m\u001b[0m\u001b[0m\n\u001b[0m\u001b[1;32m    939\u001b[0m \u001b[0;34m\u001b[0m\u001b[0m\n\u001b[1;32m    940\u001b[0m     \u001b[0;31m# Cast if necessary\u001b[0m\u001b[0;34m\u001b[0m\u001b[0;34m\u001b[0m\u001b[0m\n",
      "\u001b[0;31mValueError\u001b[0m: Unable to create correctly shaped tuple from ((0, 0), (1, 1), (1, 1))"
     ]
    }
   ],
   "source": [
    "padded = np.pad(im, ((0,0), (1, 1), (1, 1)), 'constant')"
   ]
  },
  {
   "cell_type": "code",
   "execution_count": 84,
   "metadata": {},
   "outputs": [
    {
     "data": {
      "text/plain": [
       "tensor([0.0597, 0.2637, 0.3745, 0.2913, 0.6735, 0.6048, 0.2769, 0.6832, 0.6631,\n",
       "        0.1840, 0.2697, 0.1990, 0.2663, 0.3542, 0.2575, 0.2850, 0.4011, 0.1942,\n",
       "        0.2457, 0.2826, 0.2372, 0.4405, 0.6431, 0.6511, 0.2665, 0.6212, 0.7830],\n",
       "       device='cuda:0')"
      ]
     },
     "execution_count": 84,
     "metadata": {},
     "output_type": "execute_result"
    }
   ],
   "source": [
    "col[:,0,0,0]"
   ]
  },
  {
   "cell_type": "code",
   "execution_count": 82,
   "metadata": {
    "collapsed": true
   },
   "outputs": [
    {
     "data": {
      "text/plain": [
       "array([[0.        , 0.        , 0.        , 0.        , 0.        ,\n",
       "        0.        , 0.        , 0.        ],\n",
       "       [0.        , 0.23880571, 0.8160617 , 0.6819017 , 0.0588966 ,\n",
       "        0.5478447 , 0.61616045, 0.        ],\n",
       "       [0.        , 0.9264439 , 0.71270204, 0.20834982, 0.6339436 ,\n",
       "        0.3174246 , 0.5405952 , 0.        ],\n",
       "       [0.        , 0.18130863, 0.91231525, 0.8190987 , 0.66696554,\n",
       "        0.74520516, 0.7733555 , 0.        ],\n",
       "       [0.        , 0.51047856, 0.4379248 , 0.87695116, 0.659516  ,\n",
       "        0.5116177 , 0.66468805, 0.        ],\n",
       "       [0.        , 0.31944937, 0.7973489 , 0.5839149 , 0.79996914,\n",
       "        0.7482772 , 0.9506202 , 0.        ],\n",
       "       [0.        , 0.2749464 , 0.88281316, 0.33416134, 0.9372135 ,\n",
       "        0.4178655 , 0.4385736 , 0.        ],\n",
       "       [0.        , 0.        , 0.        , 0.        , 0.        ,\n",
       "        0.        , 0.        , 0.        ]], dtype=float32)"
      ]
     },
     "execution_count": 82,
     "metadata": {},
     "output_type": "execute_result"
    }
   ],
   "source": [
    "padded[0]"
   ]
  },
  {
   "cell_type": "code",
   "execution_count": 120,
   "metadata": {},
   "outputs": [
    {
     "data": {
      "text/plain": [
       "0.6047538071870804"
      ]
     },
     "execution_count": 120,
     "metadata": {},
     "output_type": "execute_result"
    }
   ],
   "source": [
    "bilinear_interpolate(padded[0], 2.5,1.5)"
   ]
  },
  {
   "cell_type": "code",
   "execution_count": 60,
   "metadata": {},
   "outputs": [],
   "source": [
    "im = np.array([[0.2388, 0.8161, 0.6819, 0.0589, 0.5478, 0.6162],\n",
    "         [0.9264, 0.7127, 0.2083, 0.6339, 0.3174, 0.5406],\n",
    "         [0.1813, 0.9123, 0.8191, 0.6670, 0.7452, 0.7734],\n",
    "         [0.5105, 0.4379, 0.8770, 0.6595, 0.5116, 0.6647],\n",
    "         [0.3194, 0.7973, 0.5839, 0.8000, 0.7483, 0.9506],\n",
    "         [0.2749, 0.8828, 0.3342, 0.9372, 0.4179, 0.4386]])"
   ]
  },
  {
   "cell_type": "code",
   "execution_count": 57,
   "metadata": {},
   "outputs": [],
   "source": [
    "def bilinear_interpolate(im, x, y):\n",
    "    x = np.asarray(x)\n",
    "    y = np.asarray(y)\n",
    "\n",
    "    x0 = np.floor(x).astype(int)\n",
    "    x1 = x0 + 1\n",
    "    y0 = np.floor(y).astype(int)\n",
    "    y1 = y0 + 1\n",
    "\n",
    "    x0 = np.clip(x0, 0, im.shape[1]-1);\n",
    "    x1 = np.clip(x1, 0, im.shape[1]-1);\n",
    "    y0 = np.clip(y0, 0, im.shape[0]-1);\n",
    "    y1 = np.clip(y1, 0, im.shape[0]-1);\n",
    "\n",
    "    Ia = im[ y0, x0 ]\n",
    "    Ib = im[ y1, x0 ]\n",
    "    Ic = im[ y0, x1 ]\n",
    "    Id = im[ y1, x1 ]\n",
    "\n",
    "    wa = (x1-x) * (y1-y)\n",
    "    wb = (x1-x) * (y-y0)\n",
    "    wc = (x-x0) * (y1-y)\n",
    "    wd = (x-x0) * (y-y0)\n",
    "\n",
    "    return wa*Ia + wb*Ib + wc*Ic + wd*Id"
   ]
  }
 ],
 "metadata": {
  "kernelspec": {
   "display_name": "torch03",
   "language": "python",
   "name": "torch03"
  },
  "language_info": {
   "codemirror_mode": {
    "name": "ipython",
    "version": 3
   },
   "file_extension": ".py",
   "mimetype": "text/x-python",
   "name": "python",
   "nbconvert_exporter": "python",
   "pygments_lexer": "ipython3",
   "version": "3.6.6"
  }
 },
 "nbformat": 4,
 "nbformat_minor": 2
}
