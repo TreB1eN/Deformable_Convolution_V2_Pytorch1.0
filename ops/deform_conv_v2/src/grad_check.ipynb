{
 "cells": [
  {
   "cell_type": "code",
   "execution_count": 1,
   "metadata": {},
   "outputs": [],
   "source": [
    "import numpy as np\n",
    "import torch\n",
    "from torch.autograd import gradcheck\n",
    "\n",
    "import os.path as osp\n",
    "import sys\n",
    "# sys.path.append(osp.abspath(osp.join(__file__, '../../')))"
   ]
  },
  {
   "cell_type": "code",
   "execution_count": null,
   "metadata": {},
   "outputs": [],
   "source": [
    "import modulated_deform_conv_cuda"
   ]
  },
  {
   "cell_type": "code",
   "execution_count": null,
   "metadata": {},
   "outputs": [],
   "source": [
    "from deformconvImg2Col import DeformConvImg2ColFunction, DeformConvImg2Col\n",
    "\n",
    "img2col = DeformConvImg2Col(3, 5, (3,3), padding=(0,0), stride=(2,2), dilation=(1,1), groups=1)\n",
    "\n",
    "data_im = torch.rand([2, 3, 6, 6], requires_grad=False).cuda()\n",
    "offset = torch.rand([2, 18, 3, 3], requires_grad=True).cuda()\n",
    "mask = torch.rand([2, 9, 3, 3], requires_grad=True).cuda()\n",
    "\n",
    "out = img2col(data_im, offset, mask)"
   ]
  },
  {
   "cell_type": "code",
   "execution_count": null,
   "metadata": {},
   "outputs": [],
   "source": []
  },
  {
   "cell_type": "code",
   "execution_count": null,
   "metadata": {},
   "outputs": [],
   "source": [
    "from deformconvImg2Col import DeformConvImg2ColFunction, DeformConvImg2Col\n",
    "\n",
    "img2col = DeformConvImg2Col(3, 5, (3,3), padding=(1,1), stride=(1,1), dilation=(1,1), groups=1)\n",
    "\n",
    "data_im = torch.rand([2, 3, 6, 6], requires_grad=True).cuda()\n",
    "offset_ = torch.rand([2, 18, 6, 6], requires_grad=True).cuda()\n",
    "offset_ = torch.clamp(offset, 0.0001, 0.9999)\n",
    "offset = torch.tensor(offset_.detach().cpu().numpy(), requires_grad=True).cuda()\n",
    "mask = torch.rand([2, 9, 6, 6], requires_grad=True).cuda()\n",
    "\n",
    "out = img2col(data_im, offset, mask)"
   ]
  },
  {
   "cell_type": "code",
   "execution_count": null,
   "metadata": {},
   "outputs": [],
   "source": [
    "offset.min()"
   ]
  },
  {
   "cell_type": "code",
   "execution_count": null,
   "metadata": {},
   "outputs": [],
   "source": [
    "np.where(offset.detach().cpu().numpy() == offset.max().item())"
   ]
  },
  {
   "cell_type": "code",
   "execution_count": null,
   "metadata": {},
   "outputs": [],
   "source": [
    "offset.view(-1)[20]"
   ]
  },
  {
   "cell_type": "code",
   "execution_count": null,
   "metadata": {},
   "outputs": [],
   "source": [
    "18 * 6 * 6 + 6 * 6 + 5 * 6 + 3"
   ]
  },
  {
   "cell_type": "code",
   "execution_count": null,
   "metadata": {},
   "outputs": [],
   "source": [
    "out.shape"
   ]
  },
  {
   "cell_type": "code",
   "execution_count": null,
   "metadata": {},
   "outputs": [],
   "source": [
    "grad_im = torch.zeros_like(data_im, dtype=torch.float32).to(data_im.device)\n",
    "grad_offset = torch.zeros_like(offset, dtype=torch.float32).to(offset.device)\n",
    "grad_mask = torch.zeros_like(mask, dtype=torch.float32).to(mask.device)\n",
    "\n",
    "modulated_deform_conv_cuda.backward(data_im, offset, mask, grad_col, \n",
    "                                    3, 3, \n",
    "                                    1, 1, \n",
    "                                    1, 1, \n",
    "                                    1, 1, 1,\n",
    "                                    grad_offset, grad_mask, grad_im)"
   ]
  },
  {
   "cell_type": "code",
   "execution_count": null,
   "metadata": {},
   "outputs": [],
   "source": [
    "grad_offset"
   ]
  },
  {
   "cell_type": "code",
   "execution_count": null,
   "metadata": {},
   "outputs": [],
   "source": [
    "grad_mask"
   ]
  },
  {
   "cell_type": "code",
   "execution_count": null,
   "metadata": {},
   "outputs": [],
   "source": [
    "grad_im"
   ]
  },
  {
   "cell_type": "code",
   "execution_count": null,
   "metadata": {},
   "outputs": [],
   "source": [
    "out.backward(torch.ones_like(out))"
   ]
  },
  {
   "cell_type": "code",
   "execution_count": null,
   "metadata": {},
   "outputs": [],
   "source": [
    "offset.grad"
   ]
  },
  {
   "cell_type": "code",
   "execution_count": null,
   "metadata": {},
   "outputs": [],
   "source": [
    "data_im.grad"
   ]
  },
  {
   "cell_type": "code",
   "execution_count": null,
   "metadata": {},
   "outputs": [],
   "source": [
    "mask.grad"
   ]
  },
  {
   "cell_type": "code",
   "execution_count": null,
   "metadata": {},
   "outputs": [],
   "source": []
  },
  {
   "cell_type": "code",
   "execution_count": null,
   "metadata": {},
   "outputs": [],
   "source": [
    "max_inp = torch.abs(data_im).max().item()"
   ]
  },
  {
   "cell_type": "code",
   "execution_count": null,
   "metadata": {},
   "outputs": [],
   "source": [
    "max_inp"
   ]
  },
  {
   "cell_type": "code",
   "execution_count": 2,
   "metadata": {},
   "outputs": [],
   "source": [
    "from modulated_deform_conv import DeformConvImg2ColFunction, DeformConvV2, DeformConvImg2Col"
   ]
  },
  {
   "cell_type": "code",
   "execution_count": 3,
   "metadata": {},
   "outputs": [],
   "source": [
    "deform_conv = DeformConvV2(8, 2, (3, 3), padding=(1,1), deformable_groups=4).cuda()"
   ]
  },
  {
   "cell_type": "code",
   "execution_count": 4,
   "metadata": {},
   "outputs": [],
   "source": [
    "inp = torch.rand([3,8,6,6], requires_grad=True).cuda()"
   ]
  },
  {
   "cell_type": "code",
   "execution_count": 5,
   "metadata": {},
   "outputs": [],
   "source": [
    "out = deform_conv(inp)"
   ]
  },
  {
   "cell_type": "code",
   "execution_count": 6,
   "metadata": {},
   "outputs": [
    {
     "data": {
      "text/plain": [
       "torch.Size([3, 2, 6, 6])"
      ]
     },
     "execution_count": 6,
     "metadata": {},
     "output_type": "execute_result"
    }
   ],
   "source": [
    "out.shape"
   ]
  },
  {
   "cell_type": "code",
   "execution_count": null,
   "metadata": {},
   "outputs": [],
   "source": [
    "deform_conv.weight.shape"
   ]
  },
  {
   "cell_type": "code",
   "execution_count": null,
   "metadata": {},
   "outputs": [],
   "source": [
    "inputs[0].shape"
   ]
  },
  {
   "cell_type": "code",
   "execution_count": null,
   "metadata": {},
   "outputs": [],
   "source": [
    "inp.max()"
   ]
  },
  {
   "cell_type": "code",
   "execution_count": null,
   "metadata": {},
   "outputs": [],
   "source": [
    "deform_conv"
   ]
  },
  {
   "cell_type": "code",
   "execution_count": 7,
   "metadata": {},
   "outputs": [
    {
     "name": "stdout",
     "output_type": "stream",
     "text": [
      "Gradcheck ...\n"
     ]
    },
    {
     "name": "stderr",
     "output_type": "stream",
     "text": [
      "/home/f/anaconda3/lib/python3.6/site-packages/torch/autograd/gradcheck.py:179: UserWarning: At least one of the inputs that requires gradient is not of double precision floating point. This check will likely fail if all the inputs are not of double precision floating point. \n",
      "  'At least one of the inputs that requires gradient '\n"
     ]
    },
    {
     "name": "stdout",
     "output_type": "stream",
     "text": [
      "True\n"
     ]
    }
   ],
   "source": [
    "inputs = (inp,)\n",
    "print('Gradcheck ...')\n",
    "# test = gradcheck(PSRoIAlign(spatial_scale, roi_size), inputs, atol=1e-3, eps=1e-3)\n",
    "# print(test)\n",
    "test = gradcheck(deform_conv, inputs, atol=1e-3, eps=1e-3)\n",
    "print(test)"
   ]
  },
  {
   "cell_type": "code",
   "execution_count": null,
   "metadata": {},
   "outputs": [],
   "source": []
  },
  {
   "cell_type": "code",
   "execution_count": null,
   "metadata": {},
   "outputs": [],
   "source": []
  },
  {
   "cell_type": "code",
   "execution_count": null,
   "metadata": {},
   "outputs": [],
   "source": [
    "from modulated_deform_conv import DeformConvImg2ColFunction, DeformConvV2, DeformConvImg2Col\n",
    "\n",
    "img2col = DeformConvImg2Col(3, 5, (3,3), padding=(1,1), stride=(2,2), dilation=(2,2), groups=1)\n",
    "\n",
    "data_im = torch.rand([2, 3, 6, 6], requires_grad=True).cuda()\n",
    "offset_ = torch.rand([2, 18, 2, 2], requires_grad=True).cuda()\n",
    "offset_ = torch.clamp(offset_, 0.001, 0.999)\n",
    "offset = torch.tensor(offset_.detach().cpu().numpy(), requires_grad=True).cuda()\n",
    "mask = torch.rand([2, 9, 2, 2], requires_grad=True).cuda()\n",
    "\n",
    "out = img2col(data_im, offset, mask)"
   ]
  },
  {
   "cell_type": "code",
   "execution_count": null,
   "metadata": {},
   "outputs": [],
   "source": [
    "out.shape"
   ]
  },
  {
   "cell_type": "code",
   "execution_count": null,
   "metadata": {},
   "outputs": [],
   "source": [
    "from modulated_deform_conv import DeformConvImg2ColFunction, DeformConvV2, DeformConvImg2Col\n",
    "\n",
    "img2col = DeformConvImg2Col(8, 5, (4,4), padding=(1,1), stride=(2,2), dilation=(2,2), deformable_groups=4)\n",
    "\n",
    "data_im = torch.rand([2, 8, 8, 8], requires_grad=True).cuda()\n",
    "offset = torch.rand([2, 128, 2, 2], requires_grad=True).cuda()\n",
    "offset_ = torch.clamp(offset, 0.001, 0.999)\n",
    "offset = torch.tensor(offset_.detach().cpu().numpy(), requires_grad=True).cuda()\n",
    "mask = torch.rand([2, 64, 2, 2], requires_grad=True).cuda()\n",
    "\n",
    "out = img2col(data_im, offset, mask)\n",
    "\n",
    "out.shape"
   ]
  },
  {
   "cell_type": "code",
   "execution_count": null,
   "metadata": {},
   "outputs": [],
   "source": [
    "inputs = (data_im, offset, mask)\n",
    "print('Gradcheck ...')\n",
    "# test = gradcheck(PSRoIAlign(spatial_scale, roi_size), inputs, atol=1e-3, eps=1e-3)\n",
    "# print(test)\n",
    "test = gradcheck(img2col, inputs, atol=1e-3, eps=1e-3)\n",
    "print(test)"
   ]
  },
  {
   "cell_type": "code",
   "execution_count": null,
   "metadata": {},
   "outputs": [],
   "source": [
    "torch.sigmoid(torch.tensor([-7.]))"
   ]
  },
  {
   "cell_type": "code",
   "execution_count": null,
   "metadata": {},
   "outputs": [],
   "source": []
  },
  {
   "cell_type": "code",
   "execution_count": null,
   "metadata": {},
   "outputs": [],
   "source": [
    "offset.view(-1)[1180]"
   ]
  },
  {
   "cell_type": "code",
   "execution_count": null,
   "metadata": {},
   "outputs": [],
   "source": [
    "offset.view([-1])[97]"
   ]
  },
  {
   "cell_type": "code",
   "execution_count": null,
   "metadata": {
    "scrolled": true
   },
   "outputs": [],
   "source": [
    "%debug"
   ]
  }
 ],
 "metadata": {
  "kernelspec": {
   "display_name": "torch03",
   "language": "python",
   "name": "torch03"
  },
  "language_info": {
   "codemirror_mode": {
    "name": "ipython",
    "version": 3
   },
   "file_extension": ".py",
   "mimetype": "text/x-python",
   "name": "python",
   "nbconvert_exporter": "python",
   "pygments_lexer": "ipython3",
   "version": "3.6.6"
  }
 },
 "nbformat": 4,
 "nbformat_minor": 2
}
