{
 "cells": [
  {
   "cell_type": "code",
   "execution_count": 1,
   "metadata": {},
   "outputs": [],
   "source": [
    "import torch\n",
    "import modulated_deform_conv_cuda  \n",
    "import numpy as np"
   ]
  },
  {
   "cell_type": "code",
   "execution_count": 2,
   "metadata": {},
   "outputs": [],
   "source": [
    "img = torch.rand([2,3,6,6]).cuda()"
   ]
  },
  {
   "cell_type": "code",
   "execution_count": 3,
   "metadata": {},
   "outputs": [],
   "source": [
    "offset = torch.rand([2,18,6,6]).cuda()\n",
    "mask = torch.rand([2,9,6,6]).cuda()"
   ]
  },
  {
   "cell_type": "code",
   "execution_count": 4,
   "metadata": {},
   "outputs": [],
   "source": [
    "col = torch.zeros([27,2,6,6]).cuda()"
   ]
  },
  {
   "cell_type": "code",
   "execution_count": 5,
   "metadata": {},
   "outputs": [
    {
     "data": {
      "text/plain": [
       "torch.Size([27, 2, 6, 6])"
      ]
     },
     "execution_count": 5,
     "metadata": {},
     "output_type": "execute_result"
    }
   ],
   "source": [
    "col.shape"
   ]
  },
  {
   "cell_type": "code",
   "execution_count": null,
   "metadata": {},
   "outputs": [],
   "source": [
    "# kernel = torch.rand([2, 27]).cuda()\n",
    "# data_out = torch.zeros(2, 2, 6, 6).cuda()"
   ]
  },
  {
   "cell_type": "code",
   "execution_count": null,
   "metadata": {},
   "outputs": [],
   "source": [
    "padding=(0,1)"
   ]
  },
  {
   "cell_type": "code",
   "execution_count": null,
   "metadata": {},
   "outputs": [],
   "source": [
    "from torch import nn"
   ]
  },
  {
   "cell_type": "code",
   "execution_count": null,
   "metadata": {},
   "outputs": [],
   "source": [
    "conv = nn.Conv2d(3,2,3, bias=True)"
   ]
  },
  {
   "cell_type": "code",
   "execution_count": null,
   "metadata": {},
   "outputs": [],
   "source": [
    "conv.bias.shape"
   ]
  },
  {
   "cell_type": "code",
   "execution_count": null,
   "metadata": {},
   "outputs": [],
   "source": [
    "torch.nn.Parameter(torch.Tensor(1,3,2,2))"
   ]
  },
  {
   "cell_type": "code",
   "execution_count": null,
   "metadata": {},
   "outputs": [],
   "source": [
    "#   // data_im : [batch_size, channels, height, width]\n",
    "#   // data_offset : [batch_size, 2 * kernel_h * kernel_w, height_col, width_col]\n",
    "#   // data_mask : [batch_size, 2 * kernel_h * kernel_w, height_col, width_col]\n",
    "#   // data_col : [channels * kernel_h * kernel_w, batch_size, height_col, width_col]\n",
    "#   // kernel : [out_channels, channels * kernel_h * kernel_w]\n",
    "#   // data_out : [out_channels, batch_size, height_col, width_col]"
   ]
  },
  {
   "cell_type": "code",
   "execution_count": null,
   "metadata": {},
   "outputs": [],
   "source": [
    "# at::Tensor data_im, \n",
    "#     at::Tensor data_offset,\n",
    "#     at::Tensor data_mask,\n",
    "#     at::Tensor data_col,\n",
    "#     at::Tensor kernel,\n",
    "#     at::Tensor data_out,\n",
    "#     int kernel_h, int kernel_w,\n",
    "#     int pad_h, int pad_w,\n",
    "#     int stride_h, int stride_w,\n",
    "#     int dilation_h, int dilation_w,\n",
    "#     int deformable_group"
   ]
  },
  {
   "cell_type": "code",
   "execution_count": 6,
   "metadata": {},
   "outputs": [],
   "source": [
    "result = modulated_deform_conv_cuda.forward(img, offset, mask, col, 3, 3, 1, 1, 1, 1, 1, 1, 1)"
   ]
  },
  {
   "cell_type": "code",
   "execution_count": 7,
   "metadata": {},
   "outputs": [],
   "source": [
    "grad_im = torch.zeros_like(img).cuda()\n",
    "grad_offset = torch.zeros_like(offset).cuda()\n",
    "grad_mask = torch.zeros_like(mask).cuda()"
   ]
  },
  {
   "cell_type": "code",
   "execution_count": null,
   "metadata": {},
   "outputs": [],
   "source": [
    "at::Tensor data_im, \n",
    "    at::Tensor data_offset,\n",
    "    at::Tensor data_mask,\n",
    "    at::Tensor data_col,\n",
    "    int kernel_h, int kernel_w,\n",
    "    int pad_h, int pad_w,\n",
    "    int stride_h, int stride_w,\n",
    "    int dilation_h, int dilation_w,\n",
    "    int deformable_group,\n",
    "    at::Tensor grad_offset, \n",
    "    at::Tensor grad_mask,\n",
    "    at::Tensor grad_im"
   ]
  },
  {
   "cell_type": "code",
   "execution_count": 8,
   "metadata": {},
   "outputs": [],
   "source": [
    "back_result = modulated_deform_conv_cuda.backward(img, offset, mask, col, 3, 3, 1, 1, 1, 1, 1, 1, 1, grad_offset, grad_mask, grad_im)"
   ]
  },
  {
   "cell_type": "code",
   "execution_count": 12,
   "metadata": {},
   "outputs": [
    {
     "data": {
      "text/plain": [
       "torch.Size([2, 18, 6, 6])"
      ]
     },
     "execution_count": 12,
     "metadata": {},
     "output_type": "execute_result"
    }
   ],
   "source": [
    "grad_offset.shape"
   ]
  },
  {
   "cell_type": "code",
   "execution_count": 13,
   "metadata": {},
   "outputs": [
    {
     "data": {
      "text/plain": [
       "torch.Size([2, 9, 6, 6])"
      ]
     },
     "execution_count": 13,
     "metadata": {},
     "output_type": "execute_result"
    }
   ],
   "source": [
    "grad_mask.shape"
   ]
  },
  {
   "cell_type": "code",
   "execution_count": 14,
   "metadata": {},
   "outputs": [
    {
     "data": {
      "text/plain": [
       "torch.Size([2, 3, 6, 6])"
      ]
     },
     "execution_count": 14,
     "metadata": {},
     "output_type": "execute_result"
    }
   ],
   "source": [
    "grad_im.shape"
   ]
  },
  {
   "cell_type": "code",
   "execution_count": 9,
   "metadata": {
    "scrolled": true
   },
   "outputs": [
    {
     "data": {
      "text/plain": [
       "torch.Size([27, 2, 6, 6])"
      ]
     },
     "execution_count": 9,
     "metadata": {},
     "output_type": "execute_result"
    }
   ],
   "source": [
    "col.shape"
   ]
  },
  {
   "cell_type": "code",
   "execution_count": 10,
   "metadata": {
    "collapsed": true
   },
   "outputs": [
    {
     "data": {
      "text/plain": [
       "tensor([[[0.0000, 0.0169, 0.0604, 0.0296, 0.4247, 0.4526],\n",
       "         [0.0596, 0.1886, 0.3808, 1.0987, 0.3590, 0.5101],\n",
       "         [0.0150, 1.1002, 0.7961, 0.1550, 0.0747, 0.7582],\n",
       "         [0.0717, 0.0539, 0.5682, 0.4747, 0.2851, 0.0736],\n",
       "         [0.0165, 0.2592, 0.7205, 0.0382, 0.1937, 0.0488],\n",
       "         [0.0059, 0.2059, 0.3784, 0.2794, 0.3131, 0.1118]],\n",
       "\n",
       "        [[0.0950, 0.1493, 0.0001, 0.0007, 0.0030, 0.0019],\n",
       "         [0.1823, 0.1109, 0.5569, 0.4106, 0.5252, 0.0026],\n",
       "         [0.4381, 0.2963, 0.1732, 0.2581, 0.1412, 0.2095],\n",
       "         [0.3069, 0.9793, 0.3214, 0.0176, 0.1083, 0.1954],\n",
       "         [0.4387, 0.8569, 0.0637, 0.4828, 1.1017, 0.0016],\n",
       "         [0.0313, 0.2048, 0.1042, 0.1605, 0.2936, 0.3376]],\n",
       "\n",
       "        [[0.5492, 0.0971, 0.0005, 0.2398, 0.0007, 0.0000],\n",
       "         [1.0256, 0.2983, 0.1803, 0.5159, 0.0589, 0.0000],\n",
       "         [0.5723, 0.6235, 0.3188, 0.7869, 0.0045, 0.0000],\n",
       "         [0.8348, 0.1324, 0.1386, 0.1476, 0.0032, 0.0000],\n",
       "         [0.0062, 0.0540, 0.2750, 0.2407, 0.0179, 0.0000],\n",
       "         [0.4133, 0.1929, 0.2273, 0.1744, 0.1083, 0.0000]],\n",
       "\n",
       "        [[0.2188, 0.0156, 0.8348, 0.2171, 0.1680, 0.7498],\n",
       "         [0.0073, 0.1238, 0.0100, 0.1876, 0.0421, 0.7247],\n",
       "         [0.0116, 0.7417, 0.9052, 0.5029, 0.2159, 0.5567],\n",
       "         [0.0726, 0.7852, 0.8765, 0.1944, 0.2408, 0.5490],\n",
       "         [0.6762, 0.6790, 0.1935, 0.5393, 0.0315, 0.8126],\n",
       "         [0.0658, 0.1853, 0.0273, 0.0057, 0.0002, 0.0004]],\n",
       "\n",
       "        [[0.7024, 0.9760, 0.1518, 0.9615, 0.0224, 0.2250],\n",
       "         [0.0626, 0.5475, 0.0823, 0.1981, 0.0643, 0.1216],\n",
       "         [1.0994, 1.0071, 0.6786, 0.2617, 0.0197, 0.0119],\n",
       "         [0.6088, 0.8837, 0.1984, 0.2871, 0.0670, 0.0573],\n",
       "         [0.4757, 0.0715, 0.3074, 0.1711, 0.0198, 0.4394],\n",
       "         [0.0420, 0.0006, 0.0980, 0.0145, 0.0002, 0.0001]],\n",
       "\n",
       "        [[0.5623, 0.9250, 0.9421, 0.4346, 0.2683, 0.0000],\n",
       "         [0.7859, 0.4215, 0.0449, 0.5306, 0.6311, 0.0000],\n",
       "         [0.1515, 0.5589, 0.1131, 0.8461, 0.2765, 0.0000],\n",
       "         [0.0760, 0.4979, 0.3600, 0.3620, 0.0040, 0.0000],\n",
       "         [0.2266, 0.0896, 0.1632, 0.0894, 0.1120, 0.0000],\n",
       "         [0.0125, 0.0943, 0.0001, 0.0122, 0.0048, 0.0000]],\n",
       "\n",
       "        [[0.0410, 0.6908, 0.5535, 1.2333, 0.2178, 0.0195],\n",
       "         [0.2623, 0.1346, 1.0362, 0.2109, 0.1862, 0.2021],\n",
       "         [0.1013, 0.2269, 0.2533, 0.2961, 0.5252, 0.7879],\n",
       "         [0.0156, 0.1286, 0.3010, 0.2581, 0.1709, 0.3309],\n",
       "         [0.0058, 0.0043, 0.5514, 0.0575, 0.0011, 0.0058],\n",
       "         [0.0000, 0.0000, 0.0000, 0.0000, 0.0000, 0.0000]],\n",
       "\n",
       "        [[0.2972, 1.1642, 0.1905, 0.6053, 0.2424, 0.0887],\n",
       "         [0.9274, 0.6319, 0.3693, 0.1830, 0.0729, 0.0319],\n",
       "         [0.9324, 0.0912, 0.3119, 0.1674, 0.2241, 0.0787],\n",
       "         [0.7081, 0.8973, 0.0072, 0.2431, 0.0595, 0.3608],\n",
       "         [0.1246, 0.0001, 0.0056, 0.0319, 0.0204, 0.0001],\n",
       "         [0.0000, 0.0000, 0.0000, 0.0000, 0.0000, 0.0000]],\n",
       "\n",
       "        [[0.6883, 0.9217, 0.2027, 0.5533, 0.3560, 0.0000],\n",
       "         [1.1306, 0.1158, 0.2287, 0.3507, 0.0628, 0.0000],\n",
       "         [0.4464, 0.2075, 0.5162, 1.2809, 0.0397, 0.0000],\n",
       "         [0.2405, 0.0270, 0.1434, 0.5951, 0.3812, 0.0000],\n",
       "         [0.2002, 0.1307, 0.0242, 0.0583, 0.1015, 0.0000],\n",
       "         [0.0000, 0.0000, 0.0000, 0.0000, 0.0000, 0.0000]]], device='cuda:0')"
      ]
     },
     "execution_count": 10,
     "metadata": {},
     "output_type": "execute_result"
    }
   ],
   "source": [
    "grad_mask[0]"
   ]
  },
  {
   "cell_type": "code",
   "execution_count": 11,
   "metadata": {
    "collapsed": true
   },
   "outputs": [
    {
     "data": {
      "text/plain": [
       "tensor([[[0.0931, 0.4851, 0.8926, 0.2838, 0.3923, 0.4154],\n",
       "         [0.1667, 1.0776, 2.0465, 1.0496, 0.7527, 0.6856],\n",
       "         [0.4167, 2.1567, 1.4399, 0.8632, 0.8944, 0.9211],\n",
       "         [0.7499, 2.3423, 2.3304, 1.3992, 1.0767, 0.6371],\n",
       "         [1.1777, 0.5050, 1.0095, 1.9824, 1.7342, 1.3941],\n",
       "         [0.3794, 0.5820, 0.6914, 0.6606, 0.5281, 0.5084]],\n",
       "\n",
       "        [[0.2738, 1.1224, 1.0761, 0.3642, 0.6433, 0.6440],\n",
       "         [0.2324, 1.3038, 1.5043, 1.0029, 1.2404, 0.7526],\n",
       "         [0.2404, 1.4144, 1.6714, 1.5756, 1.1868, 1.1587],\n",
       "         [0.8073, 1.5588, 2.7209, 1.1187, 1.1543, 0.6901],\n",
       "         [1.3823, 0.9852, 1.9461, 1.0577, 0.8924, 0.6122],\n",
       "         [0.7893, 1.3393, 0.9091, 0.4843, 0.6352, 0.3483]],\n",
       "\n",
       "        [[0.1717, 0.6097, 0.4504, 0.2972, 0.6476, 0.4673],\n",
       "         [0.1967, 1.0952, 1.3151, 0.9225, 1.2684, 0.7584],\n",
       "         [0.3865, 2.3309, 1.3294, 1.1256, 0.7209, 0.8861],\n",
       "         [0.7563, 2.4850, 1.8817, 0.9013, 0.5490, 0.4888],\n",
       "         [1.0018, 0.4985, 0.7629, 1.2357, 1.3602, 1.1892],\n",
       "         [0.4283, 0.8134, 0.7467, 1.0520, 0.4718, 0.8708]]], device='cuda:0')"
      ]
     },
     "execution_count": 11,
     "metadata": {},
     "output_type": "execute_result"
    }
   ],
   "source": [
    "grad_im[0]"
   ]
  },
  {
   "cell_type": "code",
   "execution_count": null,
   "metadata": {},
   "outputs": [],
   "source": [
    "col.shape"
   ]
  },
  {
   "cell_type": "code",
   "execution_count": null,
   "metadata": {},
   "outputs": [],
   "source": [
    "col[:,0,0,0]"
   ]
  },
  {
   "cell_type": "code",
   "execution_count": null,
   "metadata": {},
   "outputs": [],
   "source": [
    "col[:,0,0,0]"
   ]
  },
  {
   "cell_type": "code",
   "execution_count": null,
   "metadata": {},
   "outputs": [],
   "source": [
    "col[:,0,0,0]"
   ]
  },
  {
   "cell_type": "code",
   "execution_count": null,
   "metadata": {},
   "outputs": [],
   "source": [
    "col[:,0,0,1]"
   ]
  },
  {
   "cell_type": "code",
   "execution_count": null,
   "metadata": {},
   "outputs": [],
   "source": [
    "col[:,0,2,2]"
   ]
  },
  {
   "cell_type": "code",
   "execution_count": null,
   "metadata": {},
   "outputs": [],
   "source": [
    "bilinear_interpolate(im, 0.5,0.5)"
   ]
  },
  {
   "cell_type": "code",
   "execution_count": null,
   "metadata": {},
   "outputs": [],
   "source": [
    "def pad_with(vector, pad_width, iaxis, kwargs):\n",
    "...     pad_value = kwargs.get('padder', 10)\n",
    "...     vector[:pad_width[0]] = pad_value\n",
    "...     vector[-pad_width[1]:] = pad_value\n",
    "...     return vector"
   ]
  },
  {
   "cell_type": "code",
   "execution_count": null,
   "metadata": {},
   "outputs": [],
   "source": [
    "im = img[0].detach().cpu().numpy()"
   ]
  },
  {
   "cell_type": "code",
   "execution_count": null,
   "metadata": {},
   "outputs": [],
   "source": [
    "im.shape"
   ]
  },
  {
   "cell_type": "code",
   "execution_count": null,
   "metadata": {},
   "outputs": [],
   "source": [
    "padded = np.pad(im, ((0,0), (1, 1), (1, 1)), 'constant')"
   ]
  },
  {
   "cell_type": "code",
   "execution_count": null,
   "metadata": {},
   "outputs": [],
   "source": [
    "col[:,0,0,0]"
   ]
  },
  {
   "cell_type": "code",
   "execution_count": null,
   "metadata": {},
   "outputs": [],
   "source": [
    "padded[0]"
   ]
  },
  {
   "cell_type": "code",
   "execution_count": null,
   "metadata": {},
   "outputs": [],
   "source": [
    "bilinear_interpolate(padded[0], 2.5,1.5)"
   ]
  },
  {
   "cell_type": "code",
   "execution_count": null,
   "metadata": {},
   "outputs": [],
   "source": [
    "im = np.array([[0.2388, 0.8161, 0.6819, 0.0589, 0.5478, 0.6162],\n",
    "         [0.9264, 0.7127, 0.2083, 0.6339, 0.3174, 0.5406],\n",
    "         [0.1813, 0.9123, 0.8191, 0.6670, 0.7452, 0.7734],\n",
    "         [0.5105, 0.4379, 0.8770, 0.6595, 0.5116, 0.6647],\n",
    "         [0.3194, 0.7973, 0.5839, 0.8000, 0.7483, 0.9506],\n",
    "         [0.2749, 0.8828, 0.3342, 0.9372, 0.4179, 0.4386]])"
   ]
  },
  {
   "cell_type": "code",
   "execution_count": null,
   "metadata": {},
   "outputs": [],
   "source": [
    "def bilinear_interpolate(im, x, y):\n",
    "    x = np.asarray(x)\n",
    "    y = np.asarray(y)\n",
    "\n",
    "    x0 = np.floor(x).astype(int)\n",
    "    x1 = x0 + 1\n",
    "    y0 = np.floor(y).astype(int)\n",
    "    y1 = y0 + 1\n",
    "\n",
    "    x0 = np.clip(x0, 0, im.shape[1]-1);\n",
    "    x1 = np.clip(x1, 0, im.shape[1]-1);\n",
    "    y0 = np.clip(y0, 0, im.shape[0]-1);\n",
    "    y1 = np.clip(y1, 0, im.shape[0]-1);\n",
    "\n",
    "    Ia = im[ y0, x0 ]\n",
    "    Ib = im[ y1, x0 ]\n",
    "    Ic = im[ y0, x1 ]\n",
    "    Id = im[ y1, x1 ]\n",
    "\n",
    "    wa = (x1-x) * (y1-y)\n",
    "    wb = (x1-x) * (y-y0)\n",
    "    wc = (x-x0) * (y1-y)\n",
    "    wd = (x-x0) * (y-y0)\n",
    "\n",
    "    return wa*Ia + wb*Ib + wc*Ic + wd*Id"
   ]
  }
 ],
 "metadata": {
  "kernelspec": {
   "display_name": "torch03",
   "language": "python",
   "name": "torch03"
  },
  "language_info": {
   "codemirror_mode": {
    "name": "ipython",
    "version": 3
   },
   "file_extension": ".py",
   "mimetype": "text/x-python",
   "name": "python",
   "nbconvert_exporter": "python",
   "pygments_lexer": "ipython3",
   "version": "3.6.6"
  }
 },
 "nbformat": 4,
 "nbformat_minor": 2
}
